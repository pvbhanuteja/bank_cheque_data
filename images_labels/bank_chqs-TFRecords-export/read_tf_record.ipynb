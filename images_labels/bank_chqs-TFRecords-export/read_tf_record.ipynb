{
 "cells": [
  {
   "cell_type": "code",
   "execution_count": 1,
   "metadata": {},
   "outputs": [
    {
     "name": "stderr",
     "output_type": "stream",
     "text": [
      "/home/bhanu/Downloads/py3dpl/lib/python3.6/site-packages/tensorflow/python/framework/dtypes.py:523: FutureWarning: Passing (type, 1) or '1type' as a synonym of type is deprecated; in a future version of numpy, it will be understood as (type, (1,)) / '(1,)type'.\n",
      "  _np_qint8 = np.dtype([(\"qint8\", np.int8, 1)])\n",
      "/home/bhanu/Downloads/py3dpl/lib/python3.6/site-packages/tensorflow/python/framework/dtypes.py:524: FutureWarning: Passing (type, 1) or '1type' as a synonym of type is deprecated; in a future version of numpy, it will be understood as (type, (1,)) / '(1,)type'.\n",
      "  _np_quint8 = np.dtype([(\"quint8\", np.uint8, 1)])\n",
      "/home/bhanu/Downloads/py3dpl/lib/python3.6/site-packages/tensorflow/python/framework/dtypes.py:525: FutureWarning: Passing (type, 1) or '1type' as a synonym of type is deprecated; in a future version of numpy, it will be understood as (type, (1,)) / '(1,)type'.\n",
      "  _np_qint16 = np.dtype([(\"qint16\", np.int16, 1)])\n",
      "/home/bhanu/Downloads/py3dpl/lib/python3.6/site-packages/tensorflow/python/framework/dtypes.py:526: FutureWarning: Passing (type, 1) or '1type' as a synonym of type is deprecated; in a future version of numpy, it will be understood as (type, (1,)) / '(1,)type'.\n",
      "  _np_quint16 = np.dtype([(\"quint16\", np.uint16, 1)])\n",
      "/home/bhanu/Downloads/py3dpl/lib/python3.6/site-packages/tensorflow/python/framework/dtypes.py:527: FutureWarning: Passing (type, 1) or '1type' as a synonym of type is deprecated; in a future version of numpy, it will be understood as (type, (1,)) / '(1,)type'.\n",
      "  _np_qint32 = np.dtype([(\"qint32\", np.int32, 1)])\n",
      "/home/bhanu/Downloads/py3dpl/lib/python3.6/site-packages/tensorflow/python/framework/dtypes.py:532: FutureWarning: Passing (type, 1) or '1type' as a synonym of type is deprecated; in a future version of numpy, it will be understood as (type, (1,)) / '(1,)type'.\n",
      "  np_resource = np.dtype([(\"resource\", np.ubyte, 1)])\n"
     ]
    }
   ],
   "source": [
    "import tensorflow as tf"
   ]
  },
  {
   "cell_type": "code",
   "execution_count": 4,
   "metadata": {},
   "outputs": [
    {
     "name": "stdout",
     "output_type": "stream",
     "text": [
      "Cheque083654.tfrecord  Cheque309076.tfrecord  Cheque309118.tfrecord\r\n",
      "Cheque083655.tfrecord  Cheque309077.tfrecord  Cheque309119.tfrecord\r\n",
      "Cheque083656.tfrecord  Cheque309078.tfrecord  Cheque309121.tfrecord\r\n",
      "Cheque083657.tfrecord  Cheque309079.tfrecord  Cheque309122.tfrecord\r\n",
      "Cheque083658.tfrecord  Cheque309080.tfrecord  Cheque309123.tfrecord\r\n",
      "Cheque083659.tfrecord  Cheque309082.tfrecord  Cheque309124.tfrecord\r\n",
      "Cheque083660.tfrecord  Cheque309083.tfrecord  Cheque309125.tfrecord\r\n",
      "Cheque100828.tfrecord  Cheque309084.tfrecord  Cheque309126.tfrecord\r\n",
      "Cheque100829.tfrecord  Cheque309086.tfrecord  Cheque309127.tfrecord\r\n",
      "Cheque100830.tfrecord  Cheque309089.tfrecord  Cheque309128.tfrecord\r\n",
      "Cheque100831.tfrecord  Cheque309090.tfrecord  Cheque309129.tfrecord\r\n",
      "Cheque100832.tfrecord  Cheque309091.tfrecord  Cheque309130.tfrecord\r\n",
      "Cheque100833.tfrecord  Cheque309092.tfrecord  Cheque309131.tfrecord\r\n",
      "Cheque100834.tfrecord  Cheque309093.tfrecord  Cheque309133.tfrecord\r\n",
      "Cheque100835.tfrecord  Cheque309094.tfrecord  Cheque309134.tfrecord\r\n",
      "Cheque120611.tfrecord  Cheque309095.tfrecord  Cheque309135.tfrecord\r\n",
      "Cheque120612.tfrecord  Cheque309096.tfrecord  Cheque309136.tfrecord\r\n",
      "Cheque120613.tfrecord  Cheque309097.tfrecord  Cheque309137.tfrecord\r\n",
      "Cheque120614.tfrecord  Cheque309098.tfrecord  Cheque309138.tfrecord\r\n",
      "Cheque120615.tfrecord  Cheque309099.tfrecord  Cheque309139.tfrecord\r\n",
      "Cheque120616.tfrecord  Cheque309100.tfrecord  Cheque309141.tfrecord\r\n",
      "Cheque120617.tfrecord  Cheque309101.tfrecord  Cheque309142.tfrecord\r\n",
      "Cheque120618.tfrecord  Cheque309102.tfrecord  Cheque309144.tfrecord\r\n",
      "Cheque120619.tfrecord  Cheque309103.tfrecord  Cheque309145.tfrecord\r\n",
      "Cheque120620.tfrecord  Cheque309104.tfrecord  Cheque309147.tfrecord\r\n",
      "Cheque309061.tfrecord  Cheque309105.tfrecord  Cheque309148.tfrecord\r\n",
      "Cheque309062.tfrecord  Cheque309106.tfrecord  Cheque309149.tfrecord\r\n",
      "Cheque309063.tfrecord  Cheque309107.tfrecord  Cheque309150.tfrecord\r\n",
      "Cheque309066.tfrecord  Cheque309108.tfrecord  Cheque309151.tfrecord\r\n",
      "Cheque309067.tfrecord  Cheque309109.tfrecord  Cheque309153.tfrecord\r\n",
      "Cheque309068.tfrecord  Cheque309110.tfrecord  Cheque309155.tfrecord\r\n",
      "Cheque309069.tfrecord  Cheque309111.tfrecord  Cheque309156.tfrecord\r\n",
      "Cheque309070.tfrecord  Cheque309112.tfrecord  Cheque309157.tfrecord\r\n",
      "Cheque309071.tfrecord  Cheque309113.tfrecord  Cheque309158.tfrecord\r\n",
      "Cheque309072.tfrecord  Cheque309114.tfrecord  Cheque309159.tfrecord\r\n",
      "Cheque309073.tfrecord  Cheque309115.tfrecord  Cheque309160.tfrecord\r\n",
      "Cheque309074.tfrecord  Cheque309116.tfrecord  read_tf_record.ipynb\r\n",
      "Cheque309075.tfrecord  Cheque309117.tfrecord  tf_label_map.pbtxt\r\n"
     ]
    }
   ],
   "source": [
    "!ls"
   ]
  },
  {
   "cell_type": "code",
   "execution_count": 3,
   "metadata": {},
   "outputs": [
    {
     "ename": "TypeError",
     "evalue": "a bytes-like object is required, not 'generator'",
     "output_type": "error",
     "traceback": [
      "\u001b[0;31m---------------------------------------------------------------------------\u001b[0m",
      "\u001b[0;31mTypeError\u001b[0m                                 Traceback (most recent call last)",
      "\u001b[0;32m<ipython-input-3-46c2f5bfbc32>\u001b[0m in \u001b[0;36m<module>\u001b[0;34m\u001b[0m\n\u001b[0;32m----> 1\u001b[0;31m \u001b[0mprint\u001b[0m\u001b[0;34m(\u001b[0m\u001b[0mtf\u001b[0m\u001b[0;34m.\u001b[0m\u001b[0mtrain\u001b[0m\u001b[0;34m.\u001b[0m\u001b[0mExample\u001b[0m\u001b[0;34m.\u001b[0m\u001b[0mFromString\u001b[0m\u001b[0;34m(\u001b[0m\u001b[0mexample\u001b[0m\u001b[0;34m)\u001b[0m\u001b[0;34m)\u001b[0m\u001b[0;34m\u001b[0m\u001b[0;34m\u001b[0m\u001b[0m\n\u001b[0m",
      "\u001b[0;31mTypeError\u001b[0m: a bytes-like object is required, not 'generator'"
     ]
    }
   ],
   "source": [
    "print(tf.train.Example.FromString(example))"
   ]
  },
  {
   "cell_type": "code",
   "execution_count": null,
   "metadata": {},
   "outputs": [],
   "source": []
  }
 ],
 "metadata": {
  "kernelspec": {
   "display_name": "Python 3",
   "language": "python",
   "name": "python3"
  },
  "language_info": {
   "codemirror_mode": {
    "name": "ipython",
    "version": 3
   },
   "file_extension": ".py",
   "mimetype": "text/x-python",
   "name": "python",
   "nbconvert_exporter": "python",
   "pygments_lexer": "ipython3",
   "version": "3.6.8"
  },
  "varInspector": {
   "cols": {
    "lenName": 16,
    "lenType": 16,
    "lenVar": 40
   },
   "kernels_config": {
    "python": {
     "delete_cmd_postfix": "",
     "delete_cmd_prefix": "del ",
     "library": "var_list.py",
     "varRefreshCmd": "print(var_dic_list())"
    },
    "r": {
     "delete_cmd_postfix": ") ",
     "delete_cmd_prefix": "rm(",
     "library": "var_list.r",
     "varRefreshCmd": "cat(var_dic_list()) "
    }
   },
   "types_to_exclude": [
    "module",
    "function",
    "builtin_function_or_method",
    "instance",
    "_Feature"
   ],
   "window_display": false
  }
 },
 "nbformat": 4,
 "nbformat_minor": 2
}
